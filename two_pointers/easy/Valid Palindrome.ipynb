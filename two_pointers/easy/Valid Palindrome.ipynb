{
 "cells": [
  {
   "cell_type": "code",
   "execution_count": 12,
   "id": "74783085-3020-4312-94cf-31de86197a47",
   "metadata": {},
   "outputs": [],
   "source": [
    "testcases = [\n",
    "              [\"Was it a car or a cat I saw?\", True],\n",
    "              [\"tab a cat\", False]\n",
    "]"
   ]
  },
  {
   "cell_type": "code",
   "execution_count": 25,
   "id": "4db662f8-3aba-4521-90b9-6ae2dcbf24d9",
   "metadata": {},
   "outputs": [],
   "source": [
    "import re\n",
    "def is_palindrome(input):\n",
    "    s = re.sub(r'[^a-zA-Z0-9]', '', input).lower()\n",
    "    return s == s[::-1]"
   ]
  },
  {
   "cell_type": "code",
   "execution_count": 26,
   "id": "9b274e1b-a0ce-4896-bb77-f6cdf9b82ed5",
   "metadata": {},
   "outputs": [
    {
     "name": "stdout",
     "output_type": "stream",
     "text": [
      "Running 2 test cases:\n",
      "✓ Test 1: PASSED\n",
      "  Input: Was it a car or a cat I saw?\n",
      "  Expected: True\n",
      "  Result: True\n",
      "\n",
      "✓ Test 2: PASSED\n",
      "  Input: tab a cat\n",
      "  Expected: False\n",
      "  Result: False\n",
      "\n",
      "Test Summary:\n",
      "Total Tests: 2\n",
      "Passed: 2\n",
      "Failed: 0\n"
     ]
    }
   ],
   "source": [
    "import sys\n",
    "sys.path.append('..')\n",
    "from common_functions import *\n",
    "run_tests(testcases, is_palindrome)"
   ]
  },
  {
   "cell_type": "code",
   "execution_count": null,
   "id": "b6d2a907-4d7c-4a56-918d-3463bd89192c",
   "metadata": {},
   "outputs": [],
   "source": []
  }
 ],
 "metadata": {
  "kernelspec": {
   "display_name": "Python 3 (ipykernel)",
   "language": "python",
   "name": "python3"
  },
  "language_info": {
   "codemirror_mode": {
    "name": "ipython",
    "version": 3
   },
   "file_extension": ".py",
   "mimetype": "text/x-python",
   "name": "python",
   "nbconvert_exporter": "python",
   "pygments_lexer": "ipython3",
   "version": "3.11.9"
  }
 },
 "nbformat": 4,
 "nbformat_minor": 5
}
