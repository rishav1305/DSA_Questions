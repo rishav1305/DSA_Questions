{
 "cells": [
  {
   "cell_type": "code",
   "execution_count": 1,
   "metadata": {},
   "outputs": [],
   "source": [
    "testcases = [\n",
    "              [[-1,0,1,2,-1,-4], [[-1,-1,2],[-1,0,1]]],\n",
    "              [[0,1,1], []],\n",
    "              [[0,0,0], [[0,0,0]]]\n",
    "]"
   ]
  },
  {
   "cell_type": "code",
   "execution_count": 2,
   "metadata": {},
   "outputs": [],
   "source": [
    "def threeSum(s):\n",
    "    s.sort()\n",
    "    res = []\n",
    "    for i in range(len(s)-2):\n",
    "        if i > 0 and s[i] == s[i-1]:\n",
    "            continue\n",
    "        l, r = i+1, len(s)-1\n",
    "        while l < r:\n",
    "            total = s[i] + s[l] + s[r]\n",
    "            if total < 0:\n",
    "                l += 1\n",
    "            elif total > 0:\n",
    "                r -= 1\n",
    "            else:\n",
    "                res.append([s[i], s[l], s[r]])\n",
    "                while l < r and s[l] == s[l+1]:\n",
    "                    l += 1\n",
    "                while l < r and s[r] == s[r-1]:\n",
    "                    r -= 1\n",
    "                l += 1\n",
    "                r -= 1\n",
    "    return res"
   ]
  },
  {
   "cell_type": "code",
   "execution_count": 6,
   "metadata": {},
   "outputs": [
    {
     "name": "stdout",
     "output_type": "stream",
     "text": [
      "Running 3 test cases:\n",
      "✓ Test 1: PASSED\n",
      "  Input: [-4, -1, -1, 0, 1, 2]\n",
      "  Expected: [[-1, -1, 2], [-1, 0, 1]]\n",
      "  Result: [[-1, -1, 2], [-1, 0, 1]]\n",
      "\n",
      "✓ Test 2: PASSED\n",
      "  Input: [0, 1, 1]\n",
      "  Expected: []\n",
      "  Result: []\n",
      "\n",
      "✓ Test 3: PASSED\n",
      "  Input: [0, 0, 0]\n",
      "  Expected: [[0, 0, 0]]\n",
      "  Result: [[0, 0, 0]]\n",
      "\n",
      "Test Summary:\n",
      "Total Tests: 3\n",
      "Passed: 3\n",
      "Failed: 0\n"
     ]
    }
   ],
   "source": [
    "import sys\n",
    "from DSA_Questions.common_functions import *\n",
    "run_tests(testcases, threeSum)"
   ]
  },
  {
   "cell_type": "code",
   "execution_count": null,
   "metadata": {},
   "outputs": [],
   "source": []
  }
 ],
 "metadata": {
  "kernelspec": {
   "display_name": "Python 3 (ipykernel)",
   "language": "python",
   "name": "python3"
  }
 },
 "nbformat": 4,
 "nbformat_minor": 2
}
