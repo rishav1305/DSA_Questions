{
 "cells": [
  {
   "cell_type": "code",
   "execution_count": 13,
   "id": "69b293de-12b8-40c2-90e3-2a67fc5fa86f",
   "metadata": {},
   "outputs": [],
   "source": [
    "testcases = [\n",
    "              [[[1,2,3,4], 3], [1,2]],\n",
    "              [[[2,3,4], 6], [1,3]]\n",
    "]"
   ]
  },
  {
   "cell_type": "code",
   "execution_count": 14,
   "id": "0cbc40df-91c5-4734-af5b-2da580c83ab2",
   "metadata": {},
   "outputs": [],
   "source": [
    "def twoSum(s):\n",
    "    numbers, target = s[0], s[1]\n",
    "    l, r = 0, len(numbers) - 1\n",
    "    while l < r:\n",
    "        curSum = numbers[l] + numbers[r]\n",
    "        if curSum > target:\n",
    "            r -= 1\n",
    "        elif curSum < target:\n",
    "            l += 1\n",
    "        else:\n",
    "            return [l+1, r+1]\n",
    "    \n",
    "    return []"
   ]
  },
  {
   "cell_type": "code",
   "execution_count": 15,
   "id": "13a66a6b-67ba-4156-82a7-a0dfa89ddfc5",
   "metadata": {},
   "outputs": [
    {
     "name": "stdout",
     "output_type": "stream",
     "text": [
      "Running 2 test cases:\n",
      "✓ Test 1: PASSED\n",
      "  Input: [[1, 2, 3, 4], 3]\n",
      "  Expected: [1, 2]\n",
      "  Result: [1, 2]\n",
      "\n",
      "✓ Test 2: PASSED\n",
      "  Input: [[2, 3, 4], 6]\n",
      "  Expected: [1, 3]\n",
      "  Result: [1, 3]\n",
      "\n",
      "Test Summary:\n",
      "Total Tests: 2\n",
      "Passed: 2\n",
      "Failed: 0\n"
     ]
    }
   ],
   "source": [
    "import sys\n",
    "sys.path.append('../..')\n",
    "from common_functions import *\n",
    "run_tests(testcases, twoSum)"
   ]
  },
  {
   "cell_type": "code",
   "execution_count": null,
   "id": "cff181b7-7361-40e6-8db4-27897b91104e",
   "metadata": {},
   "outputs": [],
   "source": []
  }
 ],
 "metadata": {
  "kernelspec": {
   "display_name": "Python 3 (ipykernel)",
   "language": "python",
   "name": "python3"
  },
  "language_info": {
   "codemirror_mode": {
    "name": "ipython",
    "version": 3
   },
   "file_extension": ".py",
   "mimetype": "text/x-python",
   "name": "python",
   "nbconvert_exporter": "python",
   "pygments_lexer": "ipython3",
   "version": "3.11.9"
  }
 },
 "nbformat": 4,
 "nbformat_minor": 5
}
