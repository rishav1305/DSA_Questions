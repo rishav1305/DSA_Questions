{
 "cells": [
  {
   "cell_type": "code",
   "execution_count": 15,
   "metadata": {},
   "outputs": [],
   "source": [
    "testcases = [\n",
    "    [['racecar', 'carrace'], True],\n",
    "    [['jar', 'jam'], False]\n",
    "]"
   ]
  },
  {
   "cell_type": "code",
   "execution_count": 16,
   "metadata": {},
   "outputs": [],
   "source": [
    "def is_anagram(s):\n",
    "    return sorted(s[0]) == sorted(s[1])"
   ]
  },
  {
   "cell_type": "code",
   "execution_count": 26,
   "metadata": {},
   "outputs": [
    {
     "name": "stdout",
     "output_type": "stream",
     "text": [
      "Running 2 test cases:\n",
      "✓ Test 1: PASSED\n",
      "  Input: ['racecar', 'carrace']\n",
      "  Expected: True\n",
      "  Result: True\n",
      "\n",
      "✓ Test 2: PASSED\n",
      "  Input: ['jar', 'jam']\n",
      "  Expected: False\n",
      "  Result: False\n",
      "\n",
      "Test Summary:\n",
      "Total Tests: 2\n",
      "Passed: 2\n",
      "Failed: 0\n"
     ]
    }
   ],
   "source": [
    "import sys\n",
    "sys.path.append('../..')\n",
    "from common_functions import *\n",
    "run_tests(testcases, is_anagram)"
   ]
  },
  {
   "cell_type": "code",
   "execution_count": null,
   "metadata": {},
   "outputs": [],
   "source": []
  },
  {
   "cell_type": "code",
   "execution_count": null,
   "metadata": {},
   "outputs": [],
   "source": []
  }
 ],
 "metadata": {
  "kernelspec": {
   "display_name": "Python 3",
   "language": "python",
   "name": "python3"
  },
  "language_info": {
   "codemirror_mode": {
    "name": "ipython",
    "version": 3
   },
   "file_extension": ".py",
   "mimetype": "text/x-python",
   "name": "python",
   "nbconvert_exporter": "python",
   "pygments_lexer": "ipython3",
   "version": "3.9.6"
  }
 },
 "nbformat": 4,
 "nbformat_minor": 2
}
