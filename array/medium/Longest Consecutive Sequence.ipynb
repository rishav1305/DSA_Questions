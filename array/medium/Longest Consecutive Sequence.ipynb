{
 "cells": [
  {
   "cell_type": "code",
   "execution_count": 1,
   "metadata": {},
   "outputs": [],
   "source": [
    "testcases = [\n",
    "    [[2,20,4,10,3,4,5], 4],\n",
    "    [[0,3,2,5,4,6,1,1], 7]\n",
    "]"
   ]
  },
  {
   "cell_type": "code",
   "execution_count": 6,
   "metadata": {},
   "outputs": [
    {
     "name": "stdout",
     "output_type": "stream",
     "text": [
      "[2, 3, 4, 5, 10, 20]\n"
     ]
    }
   ],
   "source": [
    "def cons_seq(input):\n",
    "    req_list = sorted(set(input))\n",
    "    highest_val = 0\n",
    "    count = 1\n",
    "    prev = req_list[0]\n",
    "    for val in req_list[1:]:\n",
    "        diff = val - pre\n",
    "        if diff == 1:\n",
    "            count += 1\n",
    "            highest_val = max(highest_val, count)\n",
    "            \n",
    "            \n",
    "        \n",
    "cons_seq(testcases[0][0])"
   ]
  },
  {
   "cell_type": "code",
   "execution_count": null,
   "metadata": {},
   "outputs": [
    {
     "name": "stdout",
     "output_type": "stream",
     "text": [
      "Running 3 test cases:\n",
      "✓ Test 1: PASSED\n",
      "  Input: ['act', 'pots', 'tops', 'cat', 'stop', 'hat']\n",
      "  Expected: [['act', 'cat'], ['pots', 'tops', 'stop'], ['hat']]\n",
      "  Result: [['act', 'cat'], ['pots', 'tops', 'stop'], ['hat']]\n",
      "\n",
      "✓ Test 2: PASSED\n",
      "  Input: ['x']\n",
      "  Expected: [['x']]\n",
      "  Result: [['x']]\n",
      "\n",
      "✓ Test 3: PASSED\n",
      "  Input: ['']\n",
      "  Expected: [['']]\n",
      "  Result: [['']]\n",
      "\n",
      "Test Summary:\n",
      "Total Tests: 3\n",
      "Passed: 3\n",
      "Failed: 0\n"
     ]
    }
   ],
   "source": [
    "import sys\n",
    "sys.path.append('../..')\n",
    "from common_functions import *\n",
    "run_tests(testcases, cons_seq)"
   ]
  },
  {
   "cell_type": "code",
   "execution_count": null,
   "metadata": {},
   "outputs": [],
   "source": []
  }
 ],
 "metadata": {
  "kernelspec": {
   "display_name": "Python 3 (ipykernel)",
   "language": "python",
   "name": "python3"
  },
  "language_info": {
   "codemirror_mode": {
    "name": "ipython",
    "version": 3
   },
   "file_extension": ".py",
   "mimetype": "text/x-python",
   "name": "python",
   "nbconvert_exporter": "python",
   "pygments_lexer": "ipython3",
   "version": "3.11.9"
  }
 },
 "nbformat": 4,
 "nbformat_minor": 4
}
