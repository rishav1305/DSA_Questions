{
 "cells": [
  {
   "cell_type": "code",
   "execution_count": 6,
   "metadata": {},
   "outputs": [],
   "source": [
    "testcases = [\n",
    "    [[\"neet\",\"code\",\"love\",\"you\"], [\"neet\",\"code\",\"love\",\"you\"]],\n",
    "    [[\"we\",\"say\",\":\",\"yes\"], [\"we\",\"say\",\":\",\"yes\"]]\n",
    "]"
   ]
  },
  {
   "cell_type": "code",
   "execution_count": 7,
   "metadata": {},
   "outputs": [],
   "source": [
    "def encode_strings(input):\n",
    "    return ','.join(input)\n",
    "def decode_strings(string_input):\n",
    "    return string_input.split(',')\n",
    "\n",
    "def encode_decode_string(input):\n",
    "    string_input = encode_strings(input)\n",
    "    return decode_strings(string_input)\n"
   ]
  },
  {
   "cell_type": "code",
   "execution_count": 20,
   "metadata": {},
   "outputs": [],
   "source": [
    "def encode_strings1(input):\n",
    "    result =''\n",
    "    for i in input:\n",
    "        length = str(len(i))\n",
    "        result += length + '#' + i\n",
    "    # print(result)\n",
    "    return result\n",
    "\n",
    "def decode_strings1(string_input):\n",
    "    result = []\n",
    "    next_len = 0\n",
    "    for i in string_input.split('#'):\n",
    "        if next_len > 0:\n",
    "            result.append(i[:next_len])\n",
    "        if i[-1].isnumeric():\n",
    "            next_len = int(i[-1])\n",
    "    # print(result)\n",
    "    return result\n",
    "decode_strings1(encode_strings1(testcases[0][0]))\n",
    "\n",
    "\n",
    "def encode_decode_string1(input):\n",
    "    string_input = encode_strings1(input)\n",
    "    return decode_strings1(string_input)\n"
   ]
  },
  {
   "cell_type": "code",
   "execution_count": 9,
   "metadata": {},
   "outputs": [
    {
     "name": "stdout",
     "output_type": "stream",
     "text": [
      "Running 2 test cases:\n",
      "✓ Test 1: PASSED\n",
      "  Input: ['neet', 'code', 'love', 'you']\n",
      "  Expected: ['neet', 'code', 'love', 'you']\n",
      "  Result: ['neet', 'code', 'love', 'you']\n",
      "\n",
      "✓ Test 2: PASSED\n",
      "  Input: ['we', 'say', ':', 'yes']\n",
      "  Expected: ['we', 'say', ':', 'yes']\n",
      "  Result: ['we', 'say', ':', 'yes']\n",
      "\n",
      "Test Summary:\n",
      "Total Tests: 2\n",
      "Passed: 2\n",
      "Failed: 0\n"
     ]
    }
   ],
   "source": [
    "import sys\n",
    "sys.path.append('../..')\n",
    "from common_functions import *\n",
    "run_tests(testcases, encode_decode_string)"
   ]
  },
  {
   "cell_type": "code",
   "execution_count": 21,
   "metadata": {},
   "outputs": [
    {
     "name": "stdout",
     "output_type": "stream",
     "text": [
      "Running 2 test cases:\n",
      "✓ Test 1: PASSED\n",
      "  Input: ['neet', 'code', 'love', 'you']\n",
      "  Expected: ['neet', 'code', 'love', 'you']\n",
      "  Result: ['neet', 'code', 'love', 'you']\n",
      "\n",
      "✓ Test 2: PASSED\n",
      "  Input: ['we', 'say', ':', 'yes']\n",
      "  Expected: ['we', 'say', ':', 'yes']\n",
      "  Result: ['we', 'say', ':', 'yes']\n",
      "\n",
      "Test Summary:\n",
      "Total Tests: 2\n",
      "Passed: 2\n",
      "Failed: 0\n"
     ]
    }
   ],
   "source": [
    "\n",
    "run_tests(testcases, encode_decode_string1)"
   ]
  },
  {
   "cell_type": "code",
   "execution_count": null,
   "metadata": {},
   "outputs": [],
   "source": []
  }
 ],
 "metadata": {
  "kernelspec": {
   "display_name": "Python 3",
   "language": "python",
   "name": "python3"
  },
  "language_info": {
   "codemirror_mode": {
    "name": "ipython",
    "version": 3
   },
   "file_extension": ".py",
   "mimetype": "text/x-python",
   "name": "python",
   "nbconvert_exporter": "python",
   "pygments_lexer": "ipython3",
   "version": "3.9.6"
  }
 },
 "nbformat": 4,
 "nbformat_minor": 2
}
