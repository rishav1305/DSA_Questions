{
 "cells": [
  {
   "cell_type": "code",
   "execution_count": 32,
   "metadata": {},
   "outputs": [],
   "source": [
    "testcases = [\n",
    "    [[1,2,4,6], [48,24,12,8]],\n",
    "    [[-1,0,1,2,3], [0,-6,0,0,0]]\n",
    "]"
   ]
  },
  {
   "cell_type": "code",
   "execution_count": 38,
   "metadata": {},
   "outputs": [
    {
     "data": {
      "text/plain": [
       "[48.0, 24.0, 12.0, 8.0]"
      ]
     },
     "execution_count": 38,
     "metadata": {},
     "output_type": "execute_result"
    }
   ],
   "source": [
    "import numpy as np\n",
    "def product_array(input):\n",
    "    length = len(input)\n",
    "    zero_counts = input.count(0)\n",
    "    if zero_counts > 1:\n",
    "        return [length*0]\n",
    "    elif zero_counts == 1:\n",
    "        zero_index = input.index(0)\n",
    "        input_wo0 = input.copy()\n",
    "        input_wo0.pop(zero_index)\n",
    "        product = np.prod(np.array(input_wo0))\n",
    "        output = np.zeros(length).tolist()\n",
    "        output[zero_index] = product\n",
    "        # print(zero_index, input_wo0, input, product, output)\n",
    "        return output\n",
    "    else:\n",
    "        arr = np.array(input)\n",
    "        output = np.ones(length)\n",
    "        product = np.prod(arr)\n",
    "        # print(zero_counts, arr, product, output,output/arr*product)\n",
    "        return (output/arr*product).tolist()\n",
    "    \n",
    "product_array(testcases[0][0])"
   ]
  },
  {
   "cell_type": "code",
   "execution_count": 39,
   "metadata": {},
   "outputs": [
    {
     "name": "stdout",
     "output_type": "stream",
     "text": [
      "Running 2 test cases:\n",
      "✓ Test 1: PASSED\n",
      "  Input: [1, 2, 4, 6]\n",
      "  Expected: [48, 24, 12, 8]\n",
      "  Result: [48.0, 24.0, 12.0, 8.0]\n",
      "\n",
      "✓ Test 2: PASSED\n",
      "  Input: [-1, 0, 1, 2, 3]\n",
      "  Expected: [0, -6, 0, 0, 0]\n",
      "  Result: [0.0, -6, 0.0, 0.0, 0.0]\n",
      "\n",
      "Test Summary:\n",
      "Total Tests: 2\n",
      "Passed: 2\n",
      "Failed: 0\n"
     ]
    }
   ],
   "source": [
    "import sys\n",
    "sys.path.append('../..')\n",
    "from common_functions import *\n",
    "run_tests(testcases, product_array)"
   ]
  },
  {
   "cell_type": "code",
   "execution_count": null,
   "metadata": {},
   "outputs": [],
   "source": []
  }
 ],
 "metadata": {
  "kernelspec": {
   "display_name": "Python 3",
   "language": "python",
   "name": "python3"
  },
  "language_info": {
   "codemirror_mode": {
    "name": "ipython",
    "version": 3
   },
   "file_extension": ".py",
   "mimetype": "text/x-python",
   "name": "python",
   "nbconvert_exporter": "python",
   "pygments_lexer": "ipython3",
   "version": "3.9.6"
  }
 },
 "nbformat": 4,
 "nbformat_minor": 2
}
