{
 "cells": [
  {
   "cell_type": "code",
   "execution_count": 14,
   "metadata": {},
   "outputs": [],
   "source": [
    "testcases = [\n",
    "    [[\"act\",\"pots\",\"tops\",\"cat\",\"stop\",\"hat\"], [['act', 'cat'], ['pots', 'tops', 'stop'], ['hat']]],\n",
    "    [[\"x\"], [[\"x\"]]],\n",
    "    [[\"\"], [[\"\"]]]\n",
    "]"
   ]
  },
  {
   "cell_type": "code",
   "execution_count": 15,
   "metadata": {},
   "outputs": [],
   "source": [
    "from collections import defaultdict\n",
    "def group_anagrams(input):\n",
    "    result = defaultdict(list)\n",
    "    for word in input:\n",
    "        result[''.join(sorted(word))].append(word)\n",
    "    return list(result.values())\n",
    "\n"
   ]
  },
  {
   "cell_type": "code",
   "execution_count": 16,
   "metadata": {},
   "outputs": [
    {
     "name": "stdout",
     "output_type": "stream",
     "text": [
      "Running 3 test cases:\n",
      "✓ Test 1: PASSED\n",
      "  Input: ['act', 'pots', 'tops', 'cat', 'stop', 'hat']\n",
      "  Expected: [['act', 'cat'], ['pots', 'tops', 'stop'], ['hat']]\n",
      "  Result: [['act', 'cat'], ['pots', 'tops', 'stop'], ['hat']]\n",
      "\n",
      "✓ Test 2: PASSED\n",
      "  Input: ['x']\n",
      "  Expected: [['x']]\n",
      "  Result: [['x']]\n",
      "\n",
      "✓ Test 3: PASSED\n",
      "  Input: ['']\n",
      "  Expected: [['']]\n",
      "  Result: [['']]\n",
      "\n",
      "Test Summary:\n",
      "Total Tests: 3\n",
      "Passed: 3\n",
      "Failed: 0\n"
     ]
    }
   ],
   "source": [
    "import sys\n",
    "sys.path.append('../..')\n",
    "from common_functions import *\n",
    "run_tests(testcases, group_anagrams)"
   ]
  },
  {
   "cell_type": "code",
   "execution_count": null,
   "metadata": {},
   "outputs": [],
   "source": []
  }
 ],
 "metadata": {
  "kernelspec": {
   "display_name": "Python 3",
   "language": "python",
   "name": "python3"
  },
  "language_info": {
   "codemirror_mode": {
    "name": "ipython",
    "version": 3
   },
   "file_extension": ".py",
   "mimetype": "text/x-python",
   "name": "python",
   "nbconvert_exporter": "python",
   "pygments_lexer": "ipython3",
   "version": "3.9.6"
  }
 },
 "nbformat": 4,
 "nbformat_minor": 2
}
