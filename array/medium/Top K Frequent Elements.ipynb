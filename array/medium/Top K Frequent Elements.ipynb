{
 "cells": [
  {
   "cell_type": "code",
   "execution_count": 56,
   "metadata": {},
   "outputs": [],
   "source": [
    "testcases = [\n",
    "    [[[1,2,2,3,3,3], 2], [3, 2]],\n",
    "    [[[7,7], 1], [7]]\n",
    "]"
   ]
  },
  {
   "cell_type": "code",
   "execution_count": 57,
   "metadata": {},
   "outputs": [],
   "source": [
    "from collections import defaultdict, Counter\n",
    "def top_k_freq_elements(input):\n",
    "    nums = input[0]\n",
    "    k = input[1]\n",
    "    result = defaultdict(int)\n",
    "    for num in nums:\n",
    "        result[num] = result[num] + 1\n",
    "    # print(dict(result))\n",
    "    return [val[0] for val in list(Counter(result).most_common(k))]\n",
    "\n",
    "    \n",
    "\n",
    "\n",
    "# top_k_freq_elements(testcases[0][0])"
   ]
  },
  {
   "cell_type": "code",
   "execution_count": 58,
   "metadata": {},
   "outputs": [
    {
     "data": {
      "text/plain": [
       "[3, 2]"
      ]
     },
     "execution_count": 58,
     "metadata": {},
     "output_type": "execute_result"
    }
   ],
   "source": [
    "from collections import defaultdict, Counter\n",
    "def top_k_freq_elements1(input):\n",
    "    nums = input[0]\n",
    "    k = input[1]\n",
    "    result = defaultdict(int)\n",
    "    for num in nums:\n",
    "        result[num] = result[num] + 1\n",
    "    # print(dict(result))\n",
    "    return list(dict(sorted(result.items(), key= lambda x:x[1], reverse=True)[:k]).keys())\n",
    "\n",
    "    \n",
    "\n",
    "\n",
    "top_k_freq_elements(testcases[0][0])"
   ]
  },
  {
   "cell_type": "code",
   "execution_count": 59,
   "metadata": {},
   "outputs": [
    {
     "name": "stdout",
     "output_type": "stream",
     "text": [
      "Running 2 test cases:\n",
      "✓ Test 1: PASSED\n",
      "  Input: [[1, 2, 2, 3, 3, 3], 2]\n",
      "  Expected: [3, 2]\n",
      "  Result: [3, 2]\n",
      "\n",
      "✓ Test 2: PASSED\n",
      "  Input: [[7, 7], 1]\n",
      "  Expected: [7]\n",
      "  Result: [7]\n",
      "\n",
      "Test Summary:\n",
      "Total Tests: 2\n",
      "Passed: 2\n",
      "Failed: 0\n"
     ]
    }
   ],
   "source": [
    "import sys\n",
    "sys.path.append('../..')\n",
    "from common_functions import *\n",
    "run_tests(testcases, top_k_freq_elements)"
   ]
  },
  {
   "cell_type": "code",
   "execution_count": 60,
   "metadata": {},
   "outputs": [
    {
     "name": "stdout",
     "output_type": "stream",
     "text": [
      "Running 2 test cases:\n",
      "✓ Test 1: PASSED\n",
      "  Input: [[1, 2, 2, 3, 3, 3], 2]\n",
      "  Expected: [3, 2]\n",
      "  Result: [3, 2]\n",
      "\n",
      "✓ Test 2: PASSED\n",
      "  Input: [[7, 7], 1]\n",
      "  Expected: [7]\n",
      "  Result: [7]\n",
      "\n",
      "Test Summary:\n",
      "Total Tests: 2\n",
      "Passed: 2\n",
      "Failed: 0\n"
     ]
    }
   ],
   "source": [
    "run_tests(testcases, top_k_freq_elements1)"
   ]
  }
 ],
 "metadata": {
  "kernelspec": {
   "display_name": "Python 3",
   "language": "python",
   "name": "python3"
  },
  "language_info": {
   "codemirror_mode": {
    "name": "ipython",
    "version": 3
   },
   "file_extension": ".py",
   "mimetype": "text/x-python",
   "name": "python",
   "nbconvert_exporter": "python",
   "pygments_lexer": "ipython3",
   "version": "3.9.6"
  }
 },
 "nbformat": 4,
 "nbformat_minor": 2
}
