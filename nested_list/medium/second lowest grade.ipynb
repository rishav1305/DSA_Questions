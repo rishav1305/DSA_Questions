{
 "cells": [
  {
   "cell_type": "code",
   "execution_count": null,
   "metadata": {},
   "outputs": [],
   "source": [
    "if __name__ == '__main__':\n",
    "    records = []\n",
    "    lowest = float('inf')\n",
    "    lowest_name = ''\n",
    "    \n",
    "    sec_lowest = float('inf')\n",
    "    sec_lowest_name = ''\n",
    "    \n",
    "    for _ in range(int(input())):\n",
    "        name = input()\n",
    "        score = float(input())\n",
    "        records.append([name, score])\n",
    "        # print(name, score)\n",
    "        if score < sec_lowest:\n",
    "            if score < lowest:\n",
    "                # print(\"score in 1\")\n",
    "                sec_lowest = lowest\n",
    "                lowest = score\n",
    "                sec_lowest_name = lowest_name\n",
    "                lowest_name = name\n",
    "            \n",
    "            elif (score > lowest) & (score < sec_lowest):\n",
    "                # print(\"score in 2\")\n",
    "                sec_lowest = score\n",
    "                sec_lowest_name = name\n",
    "            elif score == lowest :\n",
    "                # print(\"score in 3\")\n",
    "                lowest_name = lowest_name+','+name\n",
    "            elif score == sec_lowest :\n",
    "                # print(\"score in 3\")\n",
    "                sec_lowest_name = sec_lowest_name+','+name\n",
    "            else:\n",
    "                # print(\"score in 4\")\n",
    "                pass\n",
    "    for i in sorted(sec_lowest_name.split(',')):\n",
    "        print(i)\n",
    "            \n",
    "        \n",
    "        \n",
    "        \n"
   ]
  }
 ],
 "metadata": {
  "language_info": {
   "name": "python"
  }
 },
 "nbformat": 4,
 "nbformat_minor": 2
}
