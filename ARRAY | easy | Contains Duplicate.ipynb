{
 "cells": [
  {
   "cell_type": "code",
   "execution_count": 9,
   "metadata": {},
   "outputs": [],
   "source": [
    "testcases = [\n",
    "    [[1, 2, 3, 3], True],\n",
    "    [[1, 2, 3, 4], False]\n",
    "]"
   ]
  },
  {
   "cell_type": "code",
   "execution_count": 10,
   "metadata": {},
   "outputs": [],
   "source": [
    "def has_duplicates(input):\n",
    "    return len(input) != len(set(input))\n"
   ]
  },
  {
   "cell_type": "code",
   "execution_count": 19,
   "metadata": {},
   "outputs": [
    {
     "name": "stdout",
     "output_type": "stream",
     "text": [
      "Running 2 test cases:\n",
      "✓ Test 1: PASSED\n",
      "  Input: [1, 2, 3, 3]\n",
      "  Expected: True\n",
      "  Result: True\n",
      "\n",
      "✓ Test 2: PASSED\n",
      "  Input: [1, 2, 3, 4]\n",
      "  Expected: False\n",
      "  Result: False\n",
      "\n",
      "Test Summary:\n",
      "Total Tests: 2\n",
      "Passed: 2\n",
      "Failed: 0\n"
     ]
    }
   ],
   "source": [
    "from common_functions import *\n",
    "run_tests(testcases, has_duplicates)"
   ]
  },
  {
   "cell_type": "code",
   "execution_count": null,
   "metadata": {},
   "outputs": [],
   "source": []
  }
 ],
 "metadata": {
  "kernelspec": {
   "display_name": "Python 3",
   "language": "python",
   "name": "python3"
  },
  "language_info": {
   "codemirror_mode": {
    "name": "ipython",
    "version": 3
   },
   "file_extension": ".py",
   "mimetype": "text/x-python",
   "name": "python",
   "nbconvert_exporter": "python",
   "pygments_lexer": "ipython3",
   "version": "3.9.6"
  }
 },
 "nbformat": 4,
 "nbformat_minor": 2
}
