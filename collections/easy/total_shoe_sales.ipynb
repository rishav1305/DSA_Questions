{
 "cells": [
  {
   "cell_type": "code",
   "execution_count": null,
   "metadata": {
    "vscode": {
     "languageId": "plaintext"
    }
   },
   "outputs": [],
   "source": [
    "from collections import Counter\n",
    "total_price = 0\n",
    "X = input()\n",
    "shoes = dict(Counter(input().split(' ')))\n",
    "N = input()\n",
    "print(X, shoes, N)\n",
    "for i in range(int(N)):\n",
    "    cust = input().split(' ')\n",
    "    shoesize = cust[0]\n",
    "    price = int(cust[1])\n",
    "    if shoesize in shoes.keys():\n",
    "        if shoes[shoesize] > 0:\n",
    "            shoes[shoesize] -= 1 \n",
    "            total_price += price\n",
    "\n",
    "print(total_price)            \n",
    "    "
   ]
  }
 ],
 "metadata": {
  "language_info": {
   "name": "python"
  }
 },
 "nbformat": 4,
 "nbformat_minor": 2
}
